{
 "cells": [
  {
   "cell_type": "code",
   "execution_count": 6,
   "metadata": {},
   "outputs": [],
   "source": [
    "import hillClimbing_Canonic as hc\n",
    "import simulatedAnnealing as sa\n",
    "import genetic as gen\n",
    "import numpy as np\n",
    "import random\n",
    "import matplotlib.pyplot as plt\n",
    "import time"
   ]
  },
  {
   "cell_type": "code",
   "execution_count": 7,
   "metadata": {},
   "outputs": [],
   "source": [
    "def posQueen(n):\n",
    "    board = np.zeros(n)\n",
    "\n",
    "    c=0\n",
    "    for x in range(0,n):\n",
    "        board[x] = c\n",
    "        c += 1\n",
    "\n",
    "    np.random.shuffle(board)\n",
    "\n",
    "    return board"
   ]
  },
  {
   "cell_type": "code",
   "execution_count": 8,
   "metadata": {},
   "outputs": [],
   "source": [
    "HC = []\n",
    "SA = []\n",
    "GN = []\n",
    "\n",
    "HCn = []\n",
    "SAn = []\n",
    "GNn = []\n",
    "\n",
    "HCt = []\n",
    "SAt = []\n",
    "GNt = []\n",
    "\n",
    "for x in range(0,30):\n",
    "    board = posQueen(8)\n",
    "    \n",
    "    start = time.time()\n",
    "    boardHC, controlHC = hc.run_it(board.copy())\n",
    "    end = time.time()\n",
    "    HCt.append(end-start)\n",
    "    \n",
    "    start = time.time()\n",
    "    boardSA, controlSA = sa.run_it(board.copy())\n",
    "    end = time.time()\n",
    "    SAt.append(end-start)\n",
    "    \n",
    "    start = time.time()\n",
    "    boardGN, controlGN = gen.run_it(board.copy())\n",
    "    end = time.time()\n",
    "    GNt.append(end-start)\n",
    "    \n",
    "    HC.append(hc.hprima(boardHC))\n",
    "    SA.append(sa.hprima(boardSA))\n",
    "    GN.append(gen.hprima(boardGN))\n",
    "    HCn.append(controlHC)\n",
    "    SAn.append(controlSA)\n",
    "    GNn.append(controlGN)"
   ]
  },
  {
   "cell_type": "code",
   "execution_count": 11,
   "metadata": {},
   "outputs": [
    {
     "data": {
      "text/plain": [
       "{'whiskers': [<matplotlib.lines.Line2D at 0x18dc2f7c400>,\n",
       "  <matplotlib.lines.Line2D at 0x18dc2f7c760>,\n",
       "  <matplotlib.lines.Line2D at 0x18dc2f86c10>,\n",
       "  <matplotlib.lines.Line2D at 0x18dc2f86f70>,\n",
       "  <matplotlib.lines.Line2D at 0x18dc2f9c430>,\n",
       "  <matplotlib.lines.Line2D at 0x18dc2f9c790>],\n",
       " 'caps': [<matplotlib.lines.Line2D at 0x18dc2f7cac0>,\n",
       "  <matplotlib.lines.Line2D at 0x18dc2f7ce50>,\n",
       "  <matplotlib.lines.Line2D at 0x18dc2f92310>,\n",
       "  <matplotlib.lines.Line2D at 0x18dc2f92670>,\n",
       "  <matplotlib.lines.Line2D at 0x18dc2f9caf0>,\n",
       "  <matplotlib.lines.Line2D at 0x18dc2f9ce50>],\n",
       " 'boxes': [<matplotlib.lines.Line2D at 0x18dc2f7c070>,\n",
       "  <matplotlib.lines.Line2D at 0x18dc2f868b0>,\n",
       "  <matplotlib.lines.Line2D at 0x18dc2f9c0d0>],\n",
       " 'medians': [<matplotlib.lines.Line2D at 0x18dc2f861f0>,\n",
       "  <matplotlib.lines.Line2D at 0x18dc2f929d0>,\n",
       "  <matplotlib.lines.Line2D at 0x18dc2fa81f0>],\n",
       " 'fliers': [<matplotlib.lines.Line2D at 0x18dc2f864f0>,\n",
       "  <matplotlib.lines.Line2D at 0x18dc2f92cd0>,\n",
       "  <matplotlib.lines.Line2D at 0x18dc2fa84f0>],\n",
       " 'means': []}"
      ]
     },
     "execution_count": 11,
     "metadata": {},
     "output_type": "execute_result"
    },
    {
     "data": {
      "image/png": "[encoded data removed]",
      "text/plain": [
       "<Figure size 432x288 with 1 Axes>"
      ]
     },
     "metadata": {
      "needs_background": "light"
     },
     "output_type": "display_data"
    }
   ],
   "source": [
    "fig1, ax1 = plt.subplots()\n",
    "ax1.set_title('h de resultados')\n",
    "ax1.boxplot([HC, SA, GN], notch = True)"
   ]
  },
  {
   "cell_type": "code",
   "execution_count": 12,
   "metadata": {},
   "outputs": [
    {
     "data": {
      "text/plain": [
       "{'whiskers': [<matplotlib.lines.Line2D at 0x18dc2ffbca0>,\n",
       "  <matplotlib.lines.Line2D at 0x18dc3005040>,\n",
       "  <matplotlib.lines.Line2D at 0x18dc30124c0>,\n",
       "  <matplotlib.lines.Line2D at 0x18dc3012820>,\n",
       "  <matplotlib.lines.Line2D at 0x18dc301dca0>,\n",
       "  <matplotlib.lines.Line2D at 0x18dc3028040>],\n",
       " 'caps': [<matplotlib.lines.Line2D at 0x18dc30053a0>,\n",
       "  <matplotlib.lines.Line2D at 0x18dc3005700>,\n",
       "  <matplotlib.lines.Line2D at 0x18dc3012b80>,\n",
       "  <matplotlib.lines.Line2D at 0x18dc3012ee0>,\n",
       "  <matplotlib.lines.Line2D at 0x18dc30283a0>,\n",
       "  <matplotlib.lines.Line2D at 0x18dc3028700>],\n",
       " 'boxes': [<matplotlib.lines.Line2D at 0x18dc2ffb910>,\n",
       "  <matplotlib.lines.Line2D at 0x18dc3012160>,\n",
       "  <matplotlib.lines.Line2D at 0x18dc301d940>],\n",
       " 'medians': [<matplotlib.lines.Line2D at 0x18dc3005a60>,\n",
       "  <matplotlib.lines.Line2D at 0x18dc301d280>,\n",
       "  <matplotlib.lines.Line2D at 0x18dc3028a60>],\n",
       " 'fliers': [<matplotlib.lines.Line2D at 0x18dc3005d60>,\n",
       "  <matplotlib.lines.Line2D at 0x18dc301d580>,\n",
       "  <matplotlib.lines.Line2D at 0x18dc3028d60>],\n",
       " 'means': []}"
      ]
     },
     "execution_count": 12,
     "metadata": {},
     "output_type": "execute_result"
    },
    {
     "data": {
      "image/png": "[encoded data removed]",
      "text/plain": [
       "<Figure size 432x288 with 1 Axes>"
      ]
     },
     "metadata": {
      "needs_background": "light"
     },
     "output_type": "display_data"
    }
   ],
   "source": [
    "fig1, ax1 = plt.subplots()\n",
    "ax1.set_title('Iteraciones')\n",
    "ax1.boxplot([HCn, SAn, GNn], notch = True)"
   ]
  },
  {
   "cell_type": "code",
   "execution_count": 13,
   "metadata": {},
   "outputs": [
    {
     "data": {
      "text/plain": [
       "{'whiskers': [<matplotlib.lines.Line2D at 0x18dc3085580>,\n",
       "  <matplotlib.lines.Line2D at 0x18dc30858e0>,\n",
       "  <matplotlib.lines.Line2D at 0x18dc308dd60>,\n",
       "  <matplotlib.lines.Line2D at 0x18dc3097100>,\n",
       "  <matplotlib.lines.Line2D at 0x18dc30a3580>,\n",
       "  <matplotlib.lines.Line2D at 0x18dc30a38e0>],\n",
       " 'caps': [<matplotlib.lines.Line2D at 0x18dc3085c40>,\n",
       "  <matplotlib.lines.Line2D at 0x18dc3085fa0>,\n",
       "  <matplotlib.lines.Line2D at 0x18dc3097460>,\n",
       "  <matplotlib.lines.Line2D at 0x18dc30977c0>,\n",
       "  <matplotlib.lines.Line2D at 0x18dc30a3c40>,\n",
       "  <matplotlib.lines.Line2D at 0x18dc30a3fa0>],\n",
       " 'boxes': [<matplotlib.lines.Line2D at 0x18dc3085220>,\n",
       "  <matplotlib.lines.Line2D at 0x18dc308da00>,\n",
       "  <matplotlib.lines.Line2D at 0x18dc30a3220>],\n",
       " 'medians': [<matplotlib.lines.Line2D at 0x18dc308d340>,\n",
       "  <matplotlib.lines.Line2D at 0x18dc3097b20>,\n",
       "  <matplotlib.lines.Line2D at 0x18dc30af340>],\n",
       " 'fliers': [<matplotlib.lines.Line2D at 0x18dc308d640>,\n",
       "  <matplotlib.lines.Line2D at 0x18dc3097e20>,\n",
       "  <matplotlib.lines.Line2D at 0x18dc30af640>],\n",
       " 'means': []}"
      ]
     },
     "execution_count": 13,
     "metadata": {},
     "output_type": "execute_result"
    },
    {
     "data": {
      "image/png": "[encoded data removed]",
      "text/plain": [
       "<Figure size 432x288 with 1 Axes>"
      ]
     },
     "metadata": {
      "needs_background": "light"
     },
     "output_type": "display_data"
    }
   ],
   "source": [
    "fig1, ax1 = plt.subplots()\n",
    "ax1.set_title('Tiempo')\n",
    "ax1.boxplot([HCt, SAt, GNt], notch = True)"
   ]
  }
 ],
 "metadata": {
  "kernelspec": {
   "display_name": "Python 3",
   "language": "python",
   "name": "python3"
  },
  "language_info": {
   "codemirror_mode": {
    "name": "ipython",
    "version": 3
   },
   "file_extension": ".py",
   "mimetype": "text/x-python",
   "name": "python",
   "nbconvert_exporter": "python",
   "pygments_lexer": "ipython3",
   "version": "3.8.3"
  }
 },
 "nbformat": 4,
 "nbformat_minor": 4
}
